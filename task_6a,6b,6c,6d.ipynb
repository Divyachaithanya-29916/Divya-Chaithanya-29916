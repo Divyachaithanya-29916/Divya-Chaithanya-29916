{
  "nbformat": 4,
  "nbformat_minor": 0,
  "metadata": {
    "colab": {
      "provenance": [],
      "authorship_tag": "ABX9TyNN10/gYmSqiG58sF/QFrHJ",
      "include_colab_link": true
    },
    "kernelspec": {
      "name": "python3",
      "display_name": "Python 3"
    },
    "language_info": {
      "name": "python"
    }
  },
  "cells": [
    {
      "cell_type": "markdown",
      "metadata": {
        "id": "view-in-github",
        "colab_type": "text"
      },
      "source": [
        "<a href=\"https://colab.research.google.com/github/Divyachaithanya-29916/Divya-Chaithanya-29916/blob/main/task_6a%2C6b%2C6c%2C6d.ipynb\" target=\"_parent\"><img src=\"https://colab.research.google.com/assets/colab-badge.svg\" alt=\"Open In Colab\"/></a>"
      ]
    },
    {
      "cell_type": "code",
      "source": [
        "def copy_files(file_paths):for file_path in file_paths:if os.path.exists(file_path):with open(file_path, 'r') as original_file:original_content = original_file.read()copy_file_path = file_path.split('.')[0] + '_copy.' + file_path.split('.')[1]with open(copy_file_path, 'w') as copy_file:copy_file.write(original_content)print(f\"Contents copied from {file_path} to {copy_file_path} successfully.\")else:print(f\"Error: File '{file_path}' not found.\")# Example usage:import osfile_list = ['file1.txt', 'file2.txt', 'file3.txt'] # List of file pathscopy_files(file_list)\n",
        "\n",
        "def create_file_and_count_occurrences():# Creating a filefile_name = input(\"Enter the file name to create: \")with open(file_name, 'w') as file:print(\"Enter the contents of the file (press Enter to finish):\")while True:line = input()if not line:breakfile.write(line + '\\n')# Displaying contents of the fileprint(\"\\nContents of the file:\")with open(file_name, 'r') as file:print(file.read())# Counting occurrences of a letterletter = input(\"\\nEnter the letter to count occurrences: \")with open(file_name, 'r') as file:content = file.read()count = content.count(letter)print(f\"\\nThe letter '{letter}' occurs {count} times in the file.\")# Calling the functioncreate_file_and_count_occurrences()\n",
        "\n",
        "def create_file_and_count_words():# Creating a filefile_name = input(\"Enter the file name to create: \")with open(file_name, 'w') as file:print(\"Enter the contents of the file (press Enter to finish):\")while True:line = input()if not line:breakfile.write(line + '\\n')# Displaying contents of the fileprint(\"\\nContents of the file:\")with open(file_name, 'r') as file:print(file.read())# Counting words in the filewith open(file_name, 'r') as file:content = file.read()word_count = len(content.split())print(f\"\\nThe number of words in the file is: {word_count}\")# Calling the functioncreate_file_and_count_words()\n",
        "\n",
        "import csvwith open('apple_quality.csv','r') as file:data=csv.reader(file)for row in data:print(row)"
      ],
      "metadata": {
        "colab": {
          "base_uri": "https://localhost:8080/",
          "height": 228
        },
        "id": "BSNqZNtnptv8",
        "outputId": "191cbd78-8f91-48dc-a345-dabb63ca82e9"
      },
      "execution_count": 6,
      "outputs": [
        {
          "output_type": "error",
          "ename": "SyntaxError",
          "evalue": "invalid syntax (ipython-input-4045462273.py, line 1)",
          "traceback": [
            "\u001b[0;36m  File \u001b[0;32m\"/tmp/ipython-input-4045462273.py\"\u001b[0;36m, line \u001b[0;32m1\u001b[0m\n\u001b[0;31m    def copy_files(file_paths):for file_path in file_paths:if os.path.exists(file_path):with open(file_path, 'r') as original_file:original_content = original_file.read()copy_file_path = file_path.split('.')[0] + '_copy.' + file_path.split('.')[1]with open(copy_file_path, 'w') as copy_file:copy_file.write(original_content)print(f\"Contents copied from {file_path} to {copy_file_path} successfully.\")else:print(f\"Error: File '{file_path}' not found.\")# Example usage:import osfile_list = ['file1.txt', 'file2.txt', 'file3.txt'] # List of file pathscopy_files(file_list)\u001b[0m\n\u001b[0m                               ^\u001b[0m\n\u001b[0;31mSyntaxError\u001b[0m\u001b[0;31m:\u001b[0m invalid syntax\n"
          ]
        }
      ]
    }
  ]
}