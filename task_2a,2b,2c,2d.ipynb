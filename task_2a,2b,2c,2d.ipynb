{
  "nbformat": 4,
  "nbformat_minor": 0,
  "metadata": {
    "colab": {
      "provenance": [],
      "authorship_tag": "ABX9TyM4UKgQZZ8q8Cm2G5Nq5HeU",
      "include_colab_link": true
    },
    "kernelspec": {
      "name": "python3",
      "display_name": "Python 3"
    },
    "language_info": {
      "name": "python"
    }
  },
  "cells": [
    {
      "cell_type": "markdown",
      "metadata": {
        "id": "view-in-github",
        "colab_type": "text"
      },
      "source": [
        "<a href=\"https://colab.research.google.com/github/Divyachaithanya-29916/Divya-Chaithanya-29916/blob/main/task_2a%2C2b%2C2c%2C2d.ipynb\" target=\"_parent\"><img src=\"https://colab.research.google.com/assets/colab-badge.svg\" alt=\"Open In Colab\"/></a>"
      ]
    },
    {
      "cell_type": "code",
      "execution_count": 2,
      "metadata": {
        "colab": {
          "base_uri": "https://localhost:8080/",
          "height": 176
        },
        "id": "aRLRi2eKh0jg",
        "outputId": "c53ed894-bd37-44fd-803f-a48390193d81"
      },
      "outputs": [
        {
          "output_type": "error",
          "ename": "SyntaxError",
          "evalue": "invalid octal literal (ipython-input-1326011963.py, line 8)",
          "traceback": [
            "\u001b[0;36m  File \u001b[0;32m\"/tmp/ipython-input-1326011963.py\"\u001b[0;36m, line \u001b[0;32m8\u001b[0m\n\u001b[0;31m    def count_even_odd(numbers):even_count = 0odd_count = 0for num in numbers:if num % 2 == 0:even_count += 1else:odd_count += 1return even_count, odd_countinput_numbers = input(\"Enter a series of numbers separated by spaces: \")numbers = list(map(int, input_numbers.split()))even_count, odd_count = count_even_odd(numbers)print(\"Number of even numbers:\", even_count)print(\"Number of odd numbers:\", odd_count)\u001b[0m\n\u001b[0m                                              ^\u001b[0m\n\u001b[0;31mSyntaxError\u001b[0m\u001b[0;31m:\u001b[0m invalid octal literal\n"
          ]
        }
      ],
      "source": [
        "import randomdef guess_number():# Generate a random number between 1 and 9target_number = random.randint(1, 9)while True:# Prompt the user to enter a guessuser_guess = int(input(\"Guess a number between 1 and 9: \"))# Check if the guess is correctif user_guess == target_number:print(\"Well guessed!\")breakelse:print(\"Wrong guess. Try again.\")# Call the functionguess_number()\n",
        "\n",
        "\n",
        "for number in range(1, 51):if number % 3 == 0 and number % 5 == 0:print(\"FizzBuzz\")elif number % 3 == 0:print(\"Fizz\")elif number % 5 == 0:print(\"Buzz\")else:print(number)\n",
        "\n",
        "nums = list(input(\"Enter a sequence of comma-separated 4-digit binary numbers: \").split(','))# example: 0101,1000,1001,1010res = [i for i in nums if int(i, 2) % 6==0]print(res)\n",
        "\n",
        "def count_even_odd(numbers):even_count = 0odd_count = 0for num in numbers:if num % 2 == 0:even_count += 1else:odd_count += 1return even_count, odd_countinput_numbers = input(\"Enter a series of numbers separated by spaces: \")numbers = list(map(int, input_numbers.split()))even_count, odd_count = count_even_odd(numbers)print(\"Number of even numbers:\", even_count)print(\"Number of odd numbers:\", odd_count)"
      ]
    }
  ]
}