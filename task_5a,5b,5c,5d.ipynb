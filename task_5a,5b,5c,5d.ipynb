{
  "nbformat": 4,
  "nbformat_minor": 0,
  "metadata": {
    "colab": {
      "provenance": [],
      "authorship_tag": "ABX9TyPxUnI8MXqWnm4EgZ8faC7/",
      "include_colab_link": true
    },
    "kernelspec": {
      "name": "python3",
      "display_name": "Python 3"
    },
    "language_info": {
      "name": "python"
    }
  },
  "cells": [
    {
      "cell_type": "markdown",
      "metadata": {
        "id": "view-in-github",
        "colab_type": "text"
      },
      "source": [
        "<a href=\"https://colab.research.google.com/github/Divyachaithanya-29916/Divya-Chaithanya-29916/blob/main/task_5a%2C5b%2C5c%2C5d.ipynb\" target=\"_parent\"><img src=\"https://colab.research.google.com/assets/colab-badge.svg\" alt=\"Open In Colab\"/></a>"
      ]
    },
    {
      "cell_type": "code",
      "source": [
        "def search(arr, x):for i in range(len(arr)):if arr[i] == x:return ireturn -1# Example usage:arr = [10, 20, 80, 30, 60, 50, 110, 100, 130, 170]x = 110result = search(arr, x)if result != -1:print(\"Element\", x, \"is present at index\", result)else:print(\"Element\", x, \"is not present in the array\")\n",
        "\n",
        "def binary_search(nums, target):left=0right=len(nums)- 1while left <= right:mid = left + (right - left) // 2if nums[mid] == target:return midelif nums[mid] < target:left = mid + 1else:right = mid - 1return -1# List is initialisednums = [-1, 0, 3, 5, 9, 12]target = 9print(binary_search(nums, target))\n",
        "\n",
        "def bubble_sort(arr):n = len(arr)for i in range(n):for j in range(0, n-i-1):if arr[j] > arr[j+1]:arr[j], arr[j+1] = arr[j+1], arr[j]def find_sequence(arr):smallest = arr[0]largest = arr[-1]print(\"Sequence of integers:\", smallest, \"to\", largest)# Step 1: Get the number of integersn = int(input(\"Enter the number of integers: \"))# Step 2: Receive the integersintegers = []print(\"Enter the integers:\")for _ in range(n):integers.append(int(input()))# Step 3: Sort the integers using bubble sortbubble_sort(integers)# Step 4: Print the start and end of sequencefind_sequence(integers)\n",
        "\n",
        "def selection_sort(scores):n = len(scores)for i in range(n):min_index = ifor j in range(i+1, n):if scores[j] < scores[min_index]:min_index = jscores[i], scores[min_index] = scores[min_index], scores[i]print(\"After iteration\", i+1, \":\", scores)exam_scores = [87, 65, 92, 78, 55, 70, 82]print(\"Initial exam scores:\", exam_scores)print(\"Sorting using Selection Sort:\")selection_sort(exam_scores)print(\"Final sorted exam scores:\", exam_scores)"
      ],
      "metadata": {
        "colab": {
          "base_uri": "https://localhost:8080/",
          "height": 158
        },
        "id": "z7jL76VTnkSl",
        "outputId": "0b9dedef-f982-4a07-ec25-bc4d72c0e999"
      },
      "execution_count": 5,
      "outputs": [
        {
          "output_type": "error",
          "ename": "SyntaxError",
          "evalue": "invalid decimal literal (ipython-input-4123671657.py, line 3)",
          "traceback": [
            "\u001b[0;36m  File \u001b[0;32m\"/tmp/ipython-input-4123671657.py\"\u001b[0;36m, line \u001b[0;32m3\u001b[0m\n\u001b[0;31m    def binary_search(nums, target):left=0right=len(nums)- 1while left <= right:mid = left + (right - left) // 2if nums[mid] == target:return midelif nums[mid] < target:left = mid + 1else:right = mid - 1return -1# List is initialisednums = [-1, 0, 3, 5, 9, 12]target = 9print(binary_search(nums, target))\u001b[0m\n\u001b[0m                                         ^\u001b[0m\n\u001b[0;31mSyntaxError\u001b[0m\u001b[0;31m:\u001b[0m invalid decimal literal\n"
          ]
        }
      ]
    }
  ]
}