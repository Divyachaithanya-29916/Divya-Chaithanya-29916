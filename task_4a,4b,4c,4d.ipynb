{
  "nbformat": 4,
  "nbformat_minor": 0,
  "metadata": {
    "colab": {
      "provenance": [],
      "authorship_tag": "ABX9TyM3bcln6plOA+wl3uZoo6sY",
      "include_colab_link": true
    },
    "kernelspec": {
      "name": "python3",
      "display_name": "Python 3"
    },
    "language_info": {
      "name": "python"
    }
  },
  "cells": [
    {
      "cell_type": "markdown",
      "metadata": {
        "id": "view-in-github",
        "colab_type": "text"
      },
      "source": [
        "<a href=\"https://colab.research.google.com/github/Divyachaithanya-29916/Divya-Chaithanya-29916/blob/main/task_4a%2C4b%2C4c%2C4d.ipynb\" target=\"_parent\"><img src=\"https://colab.research.google.com/assets/colab-badge.svg\" alt=\"Open In Colab\"/></a>"
      ]
    },
    {
      "cell_type": "code",
      "source": [
        "sample=[]sample.insert(0,12)print(sample)sample.insert(1,4)print(sample)sample.insert(2,2)print(sample)sample.insert(3,4)print(sample)sample.remove(4)print(sample)sample.append(21)print(sample)sample.sort()print(sample)sample.pop()print(sample)sample.reverse()print(sample)a = list(range(10))print(a)\n",
        "\n",
        "alist = []for i in range(int(input())):name = input()score = float(input())alist.append([name, score])second_highest = sorted(set([score for name, score in alist]))[1] // List comprehension--iterates over each element of alist, unpacks each element into name and score, selects only the score part, and constructs a new sequence (e.g., a list) containing only the scores.print('\\n'.join(sorted([name for name, score in alist if score == second_highest]))) //List comprehensionThis joins the sorted list of names into a single string, with each name on a new line.\n",
        "\n",
        "n = int(input())a = map(int, input().split())t = tuple(a)print(hash(t)); // is used to get the hash value of an object. We can hash only these types: Hashable types: * bool * int * long * float * string * Unicode * tuple * code objectWe cannot hash of these types: Non-hashable types: * bytearray * list * set * dictionary * memoryview\n",
        "\n",
        "def min_paint_balloons(s):# Count the number of amber and brass balloonsamber_count = s.count('a')brass_count = s.count('b')# Find the minimum count between amber and brass balloonsmin_paint = min(amber_count, brass_count)return min_paint# Input the number of test casesT = int(input(\"enter the total testcase\"))# Iterate through each test casefor i in range(T):# Input the string representing balloon colorss = input().strip() #strip() is used to read a line of input from the user and remove any leading and trailing whitespace from that input# Calculate and print the minimum number of balloons needed to be paintedprint(min_paint_balloons(s))"
      ],
      "metadata": {
        "colab": {
          "base_uri": "https://localhost:8080/",
          "height": 228
        },
        "id": "NrdwOOMhmLI2",
        "outputId": "61ba0489-036b-4306-f812-900af6de404e"
      },
      "execution_count": 4,
      "outputs": [
        {
          "output_type": "error",
          "ename": "SyntaxError",
          "evalue": "invalid non-printable character U+F0E0 (ipython-input-1007702491.py, line 3)",
          "traceback": [
            "\u001b[0;36m  File \u001b[0;32m\"/tmp/ipython-input-1007702491.py\"\u001b[0;36m, line \u001b[0;32m3\u001b[0m\n\u001b[0;31m    alist = []for i in range(int(input())):name = input()score = float(input())alist.append([name, score])second_highest = sorted(set([score for name, score in alist]))[1] // List comprehension--iterates over each element of alist, unpacks each element into name and score, selects only the score part, and constructs a new sequence (e.g., a list) containing only the scores.print('\\n'.join(sorted([name for name, score in alist if score == second_highest]))) //List comprehensionThis joins the sorted list of names into a single string, with each name on a new line.\u001b[0m\n\u001b[0m                                                                                                                                                                                                   ^\u001b[0m\n\u001b[0;31mSyntaxError\u001b[0m\u001b[0;31m:\u001b[0m invalid non-printable character U+F0E0\n"
          ]
        }
      ]
    }
  ]
}