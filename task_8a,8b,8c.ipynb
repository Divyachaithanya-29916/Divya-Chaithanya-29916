{
  "nbformat": 4,
  "nbformat_minor": 0,
  "metadata": {
    "colab": {
      "provenance": [],
      "authorship_tag": "ABX9TyPTb7vGkEMi04txPBveCHCX",
      "include_colab_link": true
    },
    "kernelspec": {
      "name": "python3",
      "display_name": "Python 3"
    },
    "language_info": {
      "name": "python"
    }
  },
  "cells": [
    {
      "cell_type": "markdown",
      "metadata": {
        "id": "view-in-github",
        "colab_type": "text"
      },
      "source": [
        "<a href=\"https://colab.research.google.com/github/Divyachaithanya-29916/Divya-Chaithanya-29916/blob/main/task_8a%2C8b%2C8c.ipynb\" target=\"_parent\"><img src=\"https://colab.research.google.com/assets/colab-badge.svg\" alt=\"Open In Colab\"/></a>"
      ]
    },
    {
      "cell_type": "code",
      "source": [
        "def fibonacci():a, b = 0, 1for _ in range(10): # Generate Fibonacci numbers using a generator functionyield aa, b = b, a + bfibonacci_series = fibonacci() # Create a generator object for Fibonacci seriesfor number in fibonacci_series: # Print the first 10 Fibonacci numbersprint(number, end=\" \")\n",
        "\n",
        "def squares():for i in range(5): # Generate squares of numbers 0 through 4yield i ** 2# Create a generator object for squares of numbers 0 through 4squares_generator = squares()# Iterate over the generator object and print the squaresfor square in squares_generator:print(square)\n",
        "\n",
        "def operation_decorator(func):def wrapper(x, y):print(\"Performing arithmetic operation...\")result = func(x, y)print(\"Operation completed.\")return resultreturn wrapper# Applying decorator to arithmetic operations@operation_decoratordef add(x, y):return x + y@operation_decoratordef divide(x, y):if y == 0:return \"Cannot divide by zero!\"else:return x / yresult_add = add(5, 3)print(\"Result of addition:\", result_add)result_divide = divide(15, 0)print(\"Result of division:\", result_divide)"
      ],
      "metadata": {
        "colab": {
          "base_uri": "https://localhost:8080/",
          "height": 248
        },
        "id": "nO2bniv24L-o",
        "outputId": "4b0ba5cb-429b-4d9b-a5cb-d86237f7e0a3"
      },
      "execution_count": 10,
      "outputs": [
        {
          "output_type": "stream",
          "name": "stderr",
          "text": [
            "<>:1: SyntaxWarning: invalid decimal literal\n",
            "<>:1: SyntaxWarning: invalid decimal literal\n",
            "/tmp/ipython-input-3983572969.py:1: SyntaxWarning: invalid decimal literal\n",
            "  def fibonacci():a, b = 0, 1for _ in range(10): # Generate Fibonacci numbers using a generator functionyield aa, b = b, a + bfibonacci_series = fibonacci() # Create a generator object for Fibonacci seriesfor number in fibonacci_series: # Print the first 10 Fibonacci numbersprint(number, end=\" \")\n"
          ]
        },
        {
          "output_type": "error",
          "ename": "SyntaxError",
          "evalue": "invalid syntax (ipython-input-3983572969.py, line 1)",
          "traceback": [
            "\u001b[0;36m  File \u001b[0;32m\"/tmp/ipython-input-3983572969.py\"\u001b[0;36m, line \u001b[0;32m1\u001b[0m\n\u001b[0;31m    def fibonacci():a, b = 0, 1for _ in range(10): # Generate Fibonacci numbers using a generator functionyield aa, b = b, a + bfibonacci_series = fibonacci() # Create a generator object for Fibonacci seriesfor number in fibonacci_series: # Print the first 10 Fibonacci numbersprint(number, end=\" \")\u001b[0m\n\u001b[0m                               ^\u001b[0m\n\u001b[0;31mSyntaxError\u001b[0m\u001b[0;31m:\u001b[0m invalid syntax\n"
          ]
        }
      ]
    }
  ]
}