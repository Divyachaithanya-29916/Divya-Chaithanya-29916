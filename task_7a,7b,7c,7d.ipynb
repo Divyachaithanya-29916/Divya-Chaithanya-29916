{
  "nbformat": 4,
  "nbformat_minor": 0,
  "metadata": {
    "colab": {
      "provenance": [],
      "authorship_tag": "ABX9TyP8CB3999ukSv4s39iJqKg/",
      "include_colab_link": true
    },
    "kernelspec": {
      "name": "python3",
      "display_name": "Python 3"
    },
    "language_info": {
      "name": "python"
    }
  },
  "cells": [
    {
      "cell_type": "markdown",
      "metadata": {
        "id": "view-in-github",
        "colab_type": "text"
      },
      "source": [
        "<a href=\"https://colab.research.google.com/github/Divyachaithanya-29916/Divya-Chaithanya-29916/blob/main/task_7a%2C7b%2C7c%2C7d.ipynb\" target=\"_parent\"><img src=\"https://colab.research.google.com/assets/colab-badge.svg\" alt=\"Open In Colab\"/></a>"
      ]
    },
    {
      "cell_type": "code",
      "source": [],
      "metadata": {
        "id": "nO2bniv24L-o"
      },
      "execution_count": null,
      "outputs": []
    },
    {
      "cell_type": "code",
      "source": [
        "def find_discount(qty):if qty <= 10:return 0elif 11 <= qty <= 20:return 15else:return 20def buy():ICode = int(input(\"Enter Item Code: \"))Item = input(\"Enter Item Name: \")Price = float(input(\"Enter Price: \"))Qty = int(input(\"Enter Quantity: \"))Discount = find_discount(Qty)Netprice = Price * Qty - Discountreturn ICode, Item, Price, Qty, Discount, Netpricedef show_all(ICode, Item, Price, Qty, Discount, Netprice):print(\"Item Code:\", ICode)print(\"Item:\", Item)print(\"Price:\", Price)print(\"Quantity:\", Qty)print(\"Discount:\", Discount)print(\"Net Price:\", Netprice)ICode, Item, Price, Qty, Discount, Netprice = buy()show_all(ICode, Item, Price, Qty, Discount, Netprice)\n",
        "\n",
        "def cube_product_of_natural_numbers(n):product = 1for i in range(1, n + 1):product = i * 3return product# Get input from the usern = int(input(\"Enter the value of N: \"))# Calculate the cube productresult = cube_product_of_natural_numbers(n)# Output the resultprint(\"Cube product of the first\", n, \"natural numbers is:\", result)\n",
        "\n",
        "def func_compute(n):return lambda x: x * nresult = func_compute(2)print(\"Double the number of 15 =\", result(15))result = func_compute(3)print(\"Triple the number of 15 =\", result(15))result = func_compute(4)print(\"Quadruple the number of 15 =\", result(15))result = func_compute(5)print(\"Quintuple the number 15 =\", result(15))\n",
        "\n",
        "def categorize_tickets(ticket_ids):adult_tickets = list(filter(lambda x: x % 2 == 0, ticket_ids))child_tickets = list(filter(lambda x: x % 2 != 0, ticket_ids))return adult_tickets, child_ticketsticket_ids = [101, 202, 305, 410, 513, 620, 723, 830, 945, 1050]# Categorize the ticketsadult_tickets, child_tickets = categorize_tickets(ticket_ids)# Print the resultsprint(\"Adult Tickets:\", adult_tickets)print(\"Child Tickets:\", child_tickets)"
      ],
      "metadata": {
        "colab": {
          "base_uri": "https://localhost:8080/",
          "height": 245
        },
        "id": "G3t4ukP83TZZ",
        "outputId": "735fffcb-ec3c-473b-e871-9c8ce7882b28"
      },
      "execution_count": 9,
      "outputs": [
        {
          "output_type": "error",
          "ename": "SyntaxError",
          "evalue": "invalid decimal literal (ipython-input-3476866858.py, line 1)",
          "traceback": [
            "\u001b[0;36m  File \u001b[0;32m\"/tmp/ipython-input-3476866858.py\"\u001b[0;36m, line \u001b[0;32m1\u001b[0m\n\u001b[0;31m    def find_discount(qty):if qty <= 10:return 0elif 11 <= qty <= 20:return 15else:return 20def buy():ICode = int(input(\"Enter Item Code: \"))Item = input(\"Enter Item Name: \")Price = float(input(\"Enter Price: \"))Qty = int(input(\"Enter Quantity: \"))Discount = find_discount(Qty)Netprice = Price * Qty - Discountreturn ICode, Item, Price, Qty, Discount, Netpricedef show_all(ICode, Item, Price, Qty, Discount, Netprice):print(\"Item Code:\", ICode)print(\"Item:\", Item)print(\"Price:\", Price)print(\"Quantity:\", Qty)print(\"Discount:\", Discount)print(\"Net Price:\", Netprice)ICode, Item, Price, Qty, Discount, Netprice = buy()show_all(ICode, Item, Price, Qty, Discount, Netprice)\u001b[0m\n\u001b[0m                                               ^\u001b[0m\n\u001b[0;31mSyntaxError\u001b[0m\u001b[0;31m:\u001b[0m invalid decimal literal\n"
          ]
        }
      ]
    }
  ]
}