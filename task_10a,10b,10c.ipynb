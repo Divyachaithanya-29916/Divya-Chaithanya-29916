{
  "nbformat": 4,
  "nbformat_minor": 0,
  "metadata": {
    "colab": {
      "provenance": [],
      "authorship_tag": "ABX9TyP1anTz0E45rVDTttiYOql0",
      "include_colab_link": true
    },
    "kernelspec": {
      "name": "python3",
      "display_name": "Python 3"
    },
    "language_info": {
      "name": "python"
    }
  },
  "cells": [
    {
      "cell_type": "markdown",
      "metadata": {
        "id": "view-in-github",
        "colab_type": "text"
      },
      "source": [
        "<a href=\"https://colab.research.google.com/github/Divyachaithanya-29916/Divya-Chaithanya-29916/blob/main/task_10a%2C10b%2C10c.ipynb\" target=\"_parent\"><img src=\"https://colab.research.google.com/assets/colab-badge.svg\" alt=\"Open In Colab\"/></a>"
      ]
    },
    {
      "cell_type": "code",
      "source": [
        "import numpy as npimport matplotlib.pyplot as plt# Generate x values from 0 to 2*pix = np.linspace(0, 2*np.pi, 1000) # This line generates an array of 1000 evenly spaced values between 0 and 2π. It takes three arguments: the starting point (0 in this case), the ending point (2*np.pi which is approximately 6.28319 and the number of points to generate (1000). It returns an array of equally spaced points between the start and end points, inclusive.# Generate y values corresponding to sine of xy = np.sin(x)# Plot the sine waveplt.plot(x, y)plt.title('Sine Wave')plt.xlabel('x')plt.ylabel('sin(x)')plt.grid(True) # Turns on the grid lines.plt.show()\n",
        "\n",
        "import matplotlib.pyplot as plt# Define the dataintervals = ['140-145', '145-150', '151-156', '157-162', '163-168', '168-173', '173-178', '179-184', '185-190', '190-195']frequencies = [2, 5, 15, 31, 46, 53, 45, 28, 21, 4]# Plot the histogramplt.bar(intervals, frequencies, edgecolor='red')plt.xlabel('Height Intervals (cm)')plt.ylabel('Frequency')plt.title('Height Distribution Histogram')plt.grid(True)plt.show()\n",
        "\n",
        "import matplotlib.pyplot as plt# Define the datax= [5, 7, 8, 7, 2, 17, 2, 9, 4, 11, 12, 9, 6]y = [99, 86, 87, 88, 111, 86, 103, 87, 94, 78, 77, 85, 86]# Plot the scatter graphplt.scatter(x, y, color='blue')plt.xlabel('X AXIS')plt.ylabel('Y AXIS')plt.title('Scatter Plot')plt.show()\n",
        "\n",
        "import matplotlib.pyplot as plt# Define the datasizes = [35, 25, 25, 15]mylabels = ['w', 'x', 'y', 'z']myexplode = [0.2, 0, 0, 0]# Plot the pie chartplt.pie(sizes, labels=mylabels, explode=myexplode, shadow = True, autopct='%1.1f%%') # automatic percentage formatting\".It is used to format the percentage values displayed on each sliceplt.title('Pie Chart')plt.show()"
      ],
      "metadata": {
        "colab": {
          "base_uri": "https://localhost:8080/",
          "height": 245
        },
        "id": "9PkjrtSp6blv",
        "outputId": "43f85338-ddc9-4f10-992b-6fa7ba3c9b72"
      },
      "execution_count": 12,
      "outputs": [
        {
          "output_type": "error",
          "ename": "SyntaxError",
          "evalue": "invalid syntax (ipython-input-357673326.py, line 1)",
          "traceback": [
            "\u001b[0;36m  File \u001b[0;32m\"/tmp/ipython-input-357673326.py\"\u001b[0;36m, line \u001b[0;32m1\u001b[0m\n\u001b[0;31m    import numpy as npimport matplotlib.pyplot as plt# Generate x values from 0 to 2*pix = np.linspace(0, 2*np.pi, 1000) # This line generates an array of 1000 evenly spaced values between 0 and 2π. It takes three arguments: the starting point (0 in this case), the ending point (2*np.pi which is approximately 6.28319 and the number of points to generate (1000). It returns an array of equally spaced points between the start and end points, inclusive.# Generate y values corresponding to sine of xy = np.sin(x)# Plot the sine waveplt.plot(x, y)plt.title('Sine Wave')plt.xlabel('x')plt.ylabel('sin(x)')plt.grid(True) # Turns on the grid lines.plt.show()\u001b[0m\n\u001b[0m                             ^\u001b[0m\n\u001b[0;31mSyntaxError\u001b[0m\u001b[0;31m:\u001b[0m invalid syntax\n"
          ]
        }
      ]
    }
  ]
}