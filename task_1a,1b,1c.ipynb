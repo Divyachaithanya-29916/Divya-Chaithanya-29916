{
  "nbformat": 4,
  "nbformat_minor": 0,
  "metadata": {
    "colab": {
      "provenance": [],
      "authorship_tag": "ABX9TyOlElmg7ADuG3r9AG3+NlHT",
      "include_colab_link": true
    },
    "kernelspec": {
      "name": "python3",
      "display_name": "Python 3"
    },
    "language_info": {
      "name": "python"
    }
  },
  "cells": [
    {
      "cell_type": "markdown",
      "metadata": {
        "id": "view-in-github",
        "colab_type": "text"
      },
      "source": [
        "<a href=\"https://colab.research.google.com/github/Divyachaithanya-29916/Divya-Chaithanya-29916/blob/main/task_1a%2C1b%2C1c.ipynb\" target=\"_parent\"><img src=\"https://colab.research.google.com/assets/colab-badge.svg\" alt=\"Open In Colab\"/></a>"
      ]
    },
    {
      "cell_type": "code",
      "source": [
        "x =int(input(\"Enter the First number:\"))\n",
        "y =int(input(\"Enter the Second number:\"))\n",
        "\n",
        "add = x + y\n",
        "sub = x - y\n",
        "pro = x * y\n",
        "div = x / y\n",
        "\n",
        "print(\"Addition:\",add)\n",
        "print(\"Subtraction :\",sub)\n",
        "print(\"Multiplication:\",pro)\n",
        "print(\"Division:\",div)\n",
        "\n",
        "# Initializing the value of a, b, and c\n",
        "a = int(input(\"Enter the First number: \"))\n",
        "b = int(input(\"Enter the Second number: \"))\n",
        "c = int(input(\"Enter the Third number: \"))\n",
        "\n",
        "# Using relational operators\n",
        "print(a, \">\", b, \"is\", a > b)\n",
        "print(a, \"<\", b, \"is\", a < b)\n",
        "print(c, \"==\", a, \"is\", c == a)\n",
        "print(c, \"!=\", b, \"is\", c != b)\n",
        "print(a, \">=\", b, \"is\", a >= b)\n",
        "print(b, \"<=\", a, \"is\", b <= a)\n",
        "\n",
        "# Taking three numbers as input\n",
        "a = int(input(\"Enter the First number: \"))\n",
        "b = int(input(\"Enter the Second number: \"))\n",
        "c = int(input(\"Enter the Third number: \"))\n",
        "\n",
        "# Performing logical operations\n",
        "print(\"\\nLogical Operations Results:\")\n",
        "print((a > b) and (b > c))\n",
        "print((a > b) or (b > c))\n",
        "print(not(a > b))\n",
        "print(not(b > c))"
      ],
      "metadata": {
        "colab": {
          "base_uri": "https://localhost:8080/"
        },
        "id": "1KQNoMRd_k9e",
        "outputId": "349a4466-933c-4090-cae3-bef45c10825a"
      },
      "execution_count": null,
      "outputs": [
        {
          "output_type": "stream",
          "name": "stdout",
          "text": [
            "Enter the First number:56\n",
            "Enter the Second number:65\n",
            "Addition: 121\n",
            "Subtraction : -9\n",
            "Multiplication: 3640\n",
            "Division: 0.8615384615384616\n",
            "Enter the First number: 77\n",
            "Enter the Second number: 99\n",
            "Enter the Third number: 66\n",
            "77 > 99 is False\n",
            "77 < 99 is True\n",
            "66 == 77 is False\n",
            "66 != 99 is True\n",
            "77 >= 99 is False\n",
            "99 <= 77 is False\n"
          ]
        }
      ]
    }
  ]
}