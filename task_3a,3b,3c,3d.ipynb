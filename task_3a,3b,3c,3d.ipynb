{
  "nbformat": 4,
  "nbformat_minor": 0,
  "metadata": {
    "colab": {
      "provenance": [],
      "authorship_tag": "ABX9TyOnmo96q6LRmz6Tjos3eUul",
      "include_colab_link": true
    },
    "kernelspec": {
      "name": "python3",
      "display_name": "Python 3"
    },
    "language_info": {
      "name": "python"
    }
  },
  "cells": [
    {
      "cell_type": "markdown",
      "metadata": {
        "id": "view-in-github",
        "colab_type": "text"
      },
      "source": [
        "<a href=\"https://colab.research.google.com/github/Divyachaithanya-29916/Divya-Chaithanya-29916/blob/main/task_3a%2C3b%2C3c%2C3d.ipynb\" target=\"_parent\"><img src=\"https://colab.research.google.com/assets/colab-badge.svg\" alt=\"Open In Colab\"/></a>"
      ]
    },
    {
      "cell_type": "code",
      "source": [
        "import datetime# Inputinput_date = input(\"Enter the date in MM DD YYYY format: \")month, day, year = map(int, input_date.split())# Check if the year is within the specified constraintsif 2000 < year < 3000:x = datetime.datetime(year, month, day) # Convert to datetime objectday_name = x.strftime(\"%A\").upper() # Get and print the day in capital lettersprint(day_name)else:print(\"Year is not within the specified constraints.\")\n",
        "\n",
        "from math import powdef compute_armstrong(x):n = len(str(x)) # Converts the number x to a string. For example, if x is 153, str(x) becomes the string \"153\".armstrong_sum = sum(pow(int(i), n) for i in str(x))return armstrong_sum == xnumber = int(input(\"Enter a number: \"))if compute_armstrong(number):print(f\"{number} is an Armstrong number\")else:print(f\"{number} is not an Armstrong number\")\n",
        "\n",
        "euclidean_distance_module.pyimport mathdef edistance(x, y):distance = math.sqrt((y[0] - x[0])*2 + (y[1] - x[1])*2)return distance3d.pyfrom euclidean_distance_module import edistanceX = (1, 3) #TupleY = (2, 3)result = edistance(X, Y)print(\"Euclidean distance between X and Y:\", result)\n",
        "\n",
        "PUT ALL THE BELOW FILES IN ONE FOLDER(PACKAGE) GIVE ANY FOLDER NAME..I Gave T3__init__.py//IT SHOULD BE AN EMPTY FILEMod1.pydef display():print(\"Hello World\")Mod2.pydef sum(a, b):return a+bsample_task3.pyfrom T3 import mod1from T3 import mod2mod1.display()res = mod2.sum(1, 2)print(res)"
      ],
      "metadata": {
        "colab": {
          "base_uri": "https://localhost:8080/",
          "height": 176
        },
        "id": "hi7Gj8y4lPqq",
        "outputId": "043dbc63-1259-4006-ac54-2a35be996255"
      },
      "execution_count": 3,
      "outputs": [
        {
          "output_type": "error",
          "ename": "SyntaxError",
          "evalue": "invalid syntax (ipython-input-3578817921.py, line 3)",
          "traceback": [
            "\u001b[0;36m  File \u001b[0;32m\"/tmp/ipython-input-3578817921.py\"\u001b[0;36m, line \u001b[0;32m3\u001b[0m\n\u001b[0;31m    from math import powdef compute_armstrong(x):n = len(str(x)) # Converts the number x to a string. For example, if x is 153, str(x) becomes the string \"153\".armstrong_sum = sum(pow(int(i), n) for i in str(x))return armstrong_sum == xnumber = int(input(\"Enter a number: \"))if compute_armstrong(number):print(f\"{number} is an Armstrong number\")else:print(f\"{number} is not an Armstrong number\")\u001b[0m\n\u001b[0m                            ^\u001b[0m\n\u001b[0;31mSyntaxError\u001b[0m\u001b[0;31m:\u001b[0m invalid syntax\n"
          ]
        }
      ]
    }
  ]
}