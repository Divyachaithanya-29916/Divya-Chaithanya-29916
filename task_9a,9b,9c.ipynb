{
  "nbformat": 4,
  "nbformat_minor": 0,
  "metadata": {
    "colab": {
      "provenance": [],
      "authorship_tag": "ABX9TyPa3Huj/MO33mYiGQsNO1tY",
      "include_colab_link": true
    },
    "kernelspec": {
      "name": "python3",
      "display_name": "Python 3"
    },
    "language_info": {
      "name": "python"
    }
  },
  "cells": [
    {
      "cell_type": "markdown",
      "metadata": {
        "id": "view-in-github",
        "colab_type": "text"
      },
      "source": [
        "<a href=\"https://colab.research.google.com/github/Divyachaithanya-29916/Divya-Chaithanya-29916/blob/main/task_9a%2C9b%2C9c.ipynb\" target=\"_parent\"><img src=\"https://colab.research.google.com/assets/colab-badge.svg\" alt=\"Open In Colab\"/></a>"
      ]
    },
    {
      "cell_type": "code",
      "source": [
        "def get_age():while True:try:age = int(input(\"Please enter your age: \"))if age < 0:raise ValueError(\"Age cannot be negative.\")return ageexcept ValueError as ve:print(\"Invalid input:\", ve)try:age = get_age()print(\"Your age is:\", age)except ValueError as ve:print(\"An error occurred:\", ve)\n",
        "\n",
        "def view_seat_details(seat_list, index):try:seat = seat_list[index]print(\"Seat Details:\")print(\"Seat Number:\", seat.get(\"number\"))print(\"Section:\", seat.get(\"section\"))print(\"Availability:\", \"Booked\" if seat.get(\"is_booked\") else \"Available\")except IndexError:print(\"Invalid seat index. Please select a valid seat.\")# Sample list of seatsseats = [{\"number\": \"A1\", \"section\": \"VIP\", \"is_booked\": False},{\"number\": \"A2\", \"section\": \"VIP\", \"is_booked\": True},{\"number\": \"B1\", \"section\": \"General\", \"is_booked\": False},{\"number\": \"B2\", \"section\": \"General\", \"is_booked\": False}]# Test the functiontry:seat_index = int(input(\"Enter the index of the seat you want to view: \"))view_seat_details(seats, seat_index)except ValueError:print(\"Invalid input. Please enter a valid seat index (integer).\")\n",
        "\n",
        "def open_file(filename):try:# Attempt to open the specified file in read mode ('r').file = open(filename, 'r')# Read the contents of the file and store them in the 'contents' variable.contents = file.read()# Print a message to indicate that the file contents will be displayed.print(\"File contents:\")# Print the contents of the file.print(contents)# Close the file to release system resources.file.close()except FileNotFoundError:# Handle the exception if the specified file is not found.print(\"Error: File not found.\")# Prompt the user to input a file name and store it in the 'file_name' variable.file_name = input(\"Input a file name: \")# Call the open_file function with the provided file name.open_file(file_name)\n",
        "\n",
        "try:# Attempt to get the initial investment amount from the userinitial_investment = float(input(\"Enter the initial investment amount: \"))# Attempt to get the final investment amount from the userfinal_investment = float(input(\"Enter the final investment amount: \"))# Calculate the return on investment (ROI)roi = (final_investment - initial_investment) / initial_investment * 100print(\"Return on Investment (ROI): {:.2f}\".format(roi))except ValueError:# Handle the ValueError exceptionprint(\"Error: Please enter a valid numeric value for the investment amount.\")except ZeroDivisionError:# Handle the ZeroDivisionError exceptionprint(\"Error: Initial investment amount cannot be zero.\")"
      ],
      "metadata": {
        "colab": {
          "base_uri": "https://localhost:8080/",
          "height": 158
        },
        "id": "hJtKec1l5q6m",
        "outputId": "db0803b9-24b7-4dd2-bfa3-8a7bc6a12272"
      },
      "execution_count": 11,
      "outputs": [
        {
          "output_type": "error",
          "ename": "SyntaxError",
          "evalue": "invalid syntax (ipython-input-4146936225.py, line 1)",
          "traceback": [
            "\u001b[0;36m  File \u001b[0;32m\"/tmp/ipython-input-4146936225.py\"\u001b[0;36m, line \u001b[0;32m1\u001b[0m\n\u001b[0;31m    def get_age():while True:try:age = int(input(\"Please enter your age: \"))if age < 0:raise ValueError(\"Age cannot be negative.\")return ageexcept ValueError as ve:print(\"Invalid input:\", ve)try:age = get_age()print(\"Your age is:\", age)except ValueError as ve:print(\"An error occurred:\", ve)\u001b[0m\n\u001b[0m                  ^\u001b[0m\n\u001b[0;31mSyntaxError\u001b[0m\u001b[0;31m:\u001b[0m invalid syntax\n"
          ]
        }
      ]
    }
  ]
}